{
 "cells": [
  {
   "cell_type": "code",
   "execution_count": 4,
   "metadata": {},
   "outputs": [
    {
     "name": "stdout",
     "output_type": "stream",
     "text": [
      "Requirement already satisfied: patool in c:\\users\\pc\\appdata\\local\\programs\\python\\python39\\lib\\site-packages (1.15.0)\n"
     ]
    },
    {
     "name": "stderr",
     "output_type": "stream",
     "text": [
      "WARNING: You are using pip version 21.2.4; however, version 24.3.1 is available.\n",
      "You should consider upgrading via the 'C:\\Users\\PC\\AppData\\Local\\Programs\\Python\\Python39\\python.exe -m pip install --upgrade pip' command.\n"
     ]
    },
    {
     "name": "stdout",
     "output_type": "stream",
     "text": [
      "Requirement already satisfied: dicom2nifti in c:\\users\\pc\\appdata\\local\\programs\\python\\python39\\lib\\site-packages (2.5.0)\n",
      "Requirement already satisfied: python-gdcm in c:\\users\\pc\\appdata\\local\\programs\\python\\python39\\lib\\site-packages (from dicom2nifti) (3.0.24.1)\n",
      "Requirement already satisfied: nibabel in c:\\users\\pc\\appdata\\local\\programs\\python\\python39\\lib\\site-packages (from dicom2nifti) (5.3.2)\n",
      "Requirement already satisfied: numpy in c:\\users\\pc\\appdata\\local\\programs\\python\\python39\\lib\\site-packages (from dicom2nifti) (1.26.3)\n",
      "Requirement already satisfied: pydicom>=2.2.0 in c:\\users\\pc\\appdata\\local\\programs\\python\\python39\\lib\\site-packages (from dicom2nifti) (2.4.4)\n",
      "Requirement already satisfied: scipy in c:\\users\\pc\\appdata\\local\\programs\\python\\python39\\lib\\site-packages (from dicom2nifti) (1.13.1)\n",
      "Requirement already satisfied: packaging>=20 in c:\\users\\pc\\appdata\\roaming\\python\\python39\\site-packages (from nibabel->dicom2nifti) (24.1)\n",
      "Requirement already satisfied: typing-extensions>=4.6 in c:\\users\\pc\\appdata\\local\\programs\\python\\python39\\lib\\site-packages (from nibabel->dicom2nifti) (4.9.0)\n",
      "Requirement already satisfied: importlib-resources>=5.12 in c:\\users\\pc\\appdata\\local\\programs\\python\\python39\\lib\\site-packages (from nibabel->dicom2nifti) (6.4.5)\n",
      "Requirement already satisfied: zipp>=3.1.0 in c:\\users\\pc\\appdata\\roaming\\python\\python39\\site-packages (from importlib-resources>=5.12->nibabel->dicom2nifti) (3.20.2)\n"
     ]
    },
    {
     "name": "stderr",
     "output_type": "stream",
     "text": [
      "WARNING: You are using pip version 21.2.4; however, version 24.3.1 is available.\n",
      "You should consider upgrading via the 'C:\\Users\\PC\\AppData\\Local\\Programs\\Python\\Python39\\python.exe -m pip install --upgrade pip' command.\n"
     ]
    },
    {
     "name": "stdout",
     "output_type": "stream",
     "text": [
      "Collecting dicom\n",
      "  Downloading dicom-0.9.9.post1-py3-none-any.whl (766 kB)\n",
      "Installing collected packages: dicom\n",
      "Successfully installed dicom-0.9.9.post1\n"
     ]
    },
    {
     "name": "stderr",
     "output_type": "stream",
     "text": [
      "WARNING: You are using pip version 21.2.4; however, version 24.3.1 is available.\n",
      "You should consider upgrading via the 'C:\\Users\\PC\\AppData\\Local\\Programs\\Python\\Python39\\python.exe -m pip install --upgrade pip' command.\n"
     ]
    }
   ],
   "source": [
    "!pip install patool\n",
    "!pip install dicom2nifti\n",
    "!pip install dicom"
   ]
  },
  {
   "cell_type": "code",
   "execution_count": 2,
   "metadata": {},
   "outputs": [],
   "source": [
    "# renaming dicom files\n",
    "import os\n",
    "def rename_files_to_dcm(directory):\n",
    "    # Get a list of all files in the directory\n",
    "    files = os.listdir(directory)\n",
    "\n",
    "    for filename in files:\n",
    "        # Check if the file does not already have the .dcm extension\n",
    "        if not filename.endswith('.dcm'):\n",
    "            # Set the new filename with the .dcm extension\n",
    "            new_filename = os.path.splitext(filename)[0] + '.dcm'\n",
    "\n",
    "            # Set the current and new file paths\n",
    "            current_path = os.path.join(directory, filename)\n",
    "            new_path = os.path.join(directory, new_filename)\n",
    "\n",
    "            # Rename the file\n",
    "            os.rename(current_path, new_path)\n",
    "\n",
    "            print(f\"Renamed {filename} to {new_filename}\")\n",
    "\n",
    "    print(\"File renaming completed.\")\n",
    "\n"
   ]
  },
  {
   "cell_type": "code",
   "execution_count": 8,
   "metadata": {},
   "outputs": [],
   "source": [
    "import os\n",
    "import dicom\n",
    "import dicom2nifti\n",
    "\n",
    "def dicom_to_nifti(input_directory, output_directory):\n",
    "    # Create output directory if it doesn't exist\n",
    "    if not os.path.exists(output_directory):\n",
    "        os.makedirs(output_directory)\n",
    "    \n",
    "    # Get a list of DICOM files in the input directory\n",
    "    dicom_files = [f for f in os.listdir(input_directory) if f.endswith('.dcm')]\n",
    "    \n",
    "    # Group DICOM files by patient ID\n",
    "    patient_dicom_map = {}\n",
    "    for dicom_file in dicom_files:\n",
    "        full_path = os.path.join(input_directory, dicom_file)\n",
    "        try:\n",
    "            dcm = dicom.read_file(full_path)\n",
    "            patient_id = dcm.PatientID\n",
    "            if patient_id not in patient_dicom_map:\n",
    "                patient_dicom_map[patient_id] = []\n",
    "            patient_dicom_map[patient_id].append(full_path)\n",
    "        except dicom.errors.InvalidDicomError:\n",
    "            print(f\"Skipping invalid DICOM file: {full_path}\")\n",
    "            continue\n",
    "    \n",
    "    # Convert DICOM files to NIfTI for each patient\n",
    "    for patient_id, dicom_files in patient_dicom_map.items():\n",
    "        patient_output_directory = os.path.join(output_directory, patient_id)\n",
    "        if not os.path.exists(patient_output_directory):\n",
    "            os.makedirs(patient_output_directory)\n",
    "        \n",
    "        dicom2nifti.convert_directory(dicom_files, patient_output_directory, compression=True, reorient=True)\n",
    "\n"
   ]
  },
  {
   "cell_type": "code",
   "execution_count": 9,
   "metadata": {},
   "outputs": [],
   "source": [
    "input_directory = 'D:/Liver Segmentation Meena 2024/Neuroblastoma_2025/32 DICOMOBJ 102 precontrast/DICOMOBJ 102 precontrast'\n",
    "output_directory = 'D:/Liver Segmentation Meena 2024/Neuroblastoma_2025/32 DICOMOBJ 102 precontrast/output_nifti'\n",
    "dicom_to_nifti(input_directory,output_directory)"
   ]
  },
  {
   "cell_type": "code",
   "execution_count": 11,
   "metadata": {},
   "outputs": [
    {
     "name": "stdout",
     "output_type": "stream",
     "text": [
      "Collecting reorient-nii\n",
      "  Downloading reorient_nii-1.0.0-py3-none-any.whl (3.9 kB)\n",
      "Collecting nibabel<4.0.0,>=3.2.2\n",
      "  Downloading nibabel-3.2.2-py3-none-any.whl (3.3 MB)\n",
      "Requirement already satisfied: numpy>=1.14 in c:\\users\\pc\\appdata\\local\\programs\\python\\python39\\lib\\site-packages (from nibabel<4.0.0,>=3.2.2->reorient-nii) (1.26.3)\n",
      "Requirement already satisfied: setuptools in c:\\users\\pc\\appdata\\local\\programs\\python\\python39\\lib\\site-packages (from nibabel<4.0.0,>=3.2.2->reorient-nii) (58.1.0)\n",
      "Requirement already satisfied: packaging>=14.3 in c:\\users\\pc\\appdata\\roaming\\python\\python39\\site-packages (from nibabel<4.0.0,>=3.2.2->reorient-nii) (24.1)\n",
      "Installing collected packages: nibabel, reorient-nii\n",
      "  Attempting uninstall: nibabel\n",
      "    Found existing installation: nibabel 5.3.2\n",
      "    Uninstalling nibabel-5.3.2:\n",
      "      Successfully uninstalled nibabel-5.3.2\n",
      "Successfully installed nibabel-3.2.2 reorient-nii-1.0.0\n"
     ]
    },
    {
     "name": "stderr",
     "output_type": "stream",
     "text": [
      "WARNING: You are using pip version 21.2.4; however, version 24.3.1 is available.\n",
      "You should consider upgrading via the 'C:\\Users\\PC\\AppData\\Local\\Programs\\Python\\Python39\\python.exe -m pip install --upgrade pip' command.\n"
     ]
    }
   ],
   "source": [
    "!pip install reorient-nii"
   ]
  },
  {
   "cell_type": "code",
   "execution_count": 12,
   "metadata": {},
   "outputs": [],
   "source": [
    "import nibabel as nib\n",
    "import reorient_nii\n",
    "\n",
    "\n",
    "def reorient_nifti(nii_file_path, output_file_path):\n",
    "    nii_img = nib.load(nii_file_path)\n",
    "    # orientation = nib.aff2axcodes(nii_img.affine)\n",
    "    desired_orientation = ('L', 'A', 'S')\n",
    "    reoriented_img = reorient_nii.reorient(nii_img, 'LAS')\n",
    "    nib.save(reoriented_img, output_file_path)\n",
    "    # Print a message upon successful reorientation\n",
    "    print(\"Volume reoriented successfully.\")\n",
    "\n"
   ]
  },
  {
   "cell_type": "code",
   "execution_count": 13,
   "metadata": {},
   "outputs": [],
   "source": [
    "\n",
    "def get_orientation(nii_file_path):\n",
    "    nii_img = nib.load(nii_file_path)\n",
    "    orientation = nib.aff2axcodes(nii_img.affine)\n",
    "    print(orientation)"
   ]
  },
  {
   "cell_type": "code",
   "execution_count": null,
   "metadata": {},
   "outputs": [],
   "source": [
    "nii_file_path = \"D:/Liver Segmentation Meena 2024/Neuroblastoma_Samples/Data/mask/segment_14.nii\"\n",
    "output_file_path = \"D:/Liver Segmentation Meena 2024/Neuroblastoma_Samples/Data/volume/volume_14.nii\"\n",
    "reorient_nifti(nii_file_path,output_file_path)\n",
    "get_orientation('D:/Liver Segmentation Meena 2024/Neuroblastoma_Samples/Data/mask/segment_2.nii')"
   ]
  },
  {
   "cell_type": "code",
   "execution_count": 14,
   "metadata": {},
   "outputs": [
    {
     "name": "stdout",
     "output_type": "stream",
     "text": [
      "('L', 'A', 'S')\n"
     ]
    }
   ],
   "source": [
    "volume = 'D:/Liver Segmentation Meena 2024/Neuroblastoma_2025/volumes/volume_34_0000.nii'\n",
    "get_orientation(volume)"
   ]
  },
  {
   "cell_type": "code",
   "execution_count": null,
   "metadata": {},
   "outputs": [
    {
     "name": "stdout",
     "output_type": "stream",
     "text": [
      "('L', 'P', 'S')\n",
      "('L', 'P', 'S')\n"
     ]
    }
   ],
   "source": [
    "mask ='D:/Liver Segmentation Meena 2024/Neuroblastoma_2025/mask/volume_34.nii'\n",
    "new_mask ='D:/Liver Segmentation Meena 2024/Neuroblastoma_2025/mask/Volume_34(2).nii'\n",
    "get_orientation(new_mask)\n",
    "get_orientation(mask)"
   ]
  },
  {
   "cell_type": "code",
   "execution_count": 25,
   "metadata": {},
   "outputs": [
    {
     "name": "stdout",
     "output_type": "stream",
     "text": [
      "Volume reoriented successfully.\n",
      "('L', 'A', 'S')\n"
     ]
    }
   ],
   "source": [
    "reorient_nifti(mask,new_mask)\n",
    "get_orientation(new_mask)"
   ]
  },
  {
   "cell_type": "code",
   "execution_count": 27,
   "metadata": {},
   "outputs": [
    {
     "name": "stdout",
     "output_type": "stream",
     "text": [
      "('L', 'A', 'S')\n"
     ]
    }
   ],
   "source": [
    "new_mask ='D:/Liver Segmentation Meena 2024/Neuroblastoma_2025/mask/Volume_34 (2).nii'\n",
    "get_orientation(new_mask)"
   ]
  },
  {
   "cell_type": "code",
   "execution_count": 28,
   "metadata": {},
   "outputs": [
    {
     "name": "stdout",
     "output_type": "stream",
     "text": [
      "('L', 'P', 'S')\n"
     ]
    }
   ],
   "source": [
    "mask ='D:/Liver Segmentation Meena 2024/Neuroblastoma_2025/mask/volume_35.nii'\n",
    "get_orientation(mask)"
   ]
  },
  {
   "cell_type": "code",
   "execution_count": 29,
   "metadata": {},
   "outputs": [
    {
     "name": "stdout",
     "output_type": "stream",
     "text": [
      "('L', 'P', 'S')\n"
     ]
    }
   ],
   "source": [
    "new_mask ='D:/Liver Segmentation Meena 2024/Neuroblastoma_2025/mask/Volume_35 (2).nii'\n",
    "get_orientation(new_mask)"
   ]
  },
  {
   "cell_type": "code",
   "execution_count": 30,
   "metadata": {},
   "outputs": [
    {
     "name": "stdout",
     "output_type": "stream",
     "text": [
      "Volume reoriented successfully.\n",
      "('L', 'A', 'S')\n"
     ]
    }
   ],
   "source": [
    "reorient_nifti(mask,new_mask)\n",
    "get_orientation(new_mask)"
   ]
  },
  {
   "cell_type": "code",
   "execution_count": 31,
   "metadata": {},
   "outputs": [
    {
     "name": "stdout",
     "output_type": "stream",
     "text": [
      "Volume reoriented successfully.\n",
      "('L', 'A', 'S')\n"
     ]
    }
   ],
   "source": [
    "new_mask ='D:/Liver Segmentation Meena 2024/Neuroblastoma_2025/mask/Volume_36 (2).nii'\n",
    "mask ='D:/Liver Segmentation Meena 2024/Neuroblastoma_2025/mask/volume_36.nii'\n",
    "reorient_nifti(mask,new_mask)\n",
    "get_orientation(new_mask)"
   ]
  },
  {
   "cell_type": "code",
   "execution_count": 32,
   "metadata": {},
   "outputs": [
    {
     "name": "stdout",
     "output_type": "stream",
     "text": [
      "Volume reoriented successfully.\n",
      "('L', 'A', 'S')\n"
     ]
    }
   ],
   "source": [
    "new_mask ='D:/Liver Segmentation Meena 2024/Neuroblastoma_2025/mask/Volume_37 (2).nii'\n",
    "mask ='D:/Liver Segmentation Meena 2024/Neuroblastoma_2025/mask/volume_37.nii'\n",
    "reorient_nifti(mask,new_mask)\n",
    "get_orientation(new_mask)"
   ]
  },
  {
   "cell_type": "code",
   "execution_count": 33,
   "metadata": {},
   "outputs": [
    {
     "name": "stdout",
     "output_type": "stream",
     "text": [
      "Volume reoriented successfully.\n",
      "('L', 'A', 'S')\n"
     ]
    }
   ],
   "source": [
    "new_mask ='D:/Liver Segmentation Meena 2024/Neuroblastoma_2025/mask/Volume_38 (2).nii'\n",
    "mask ='D:/Liver Segmentation Meena 2024/Neuroblastoma_2025/mask/volume_38.nii'\n",
    "reorient_nifti(mask,new_mask)\n",
    "get_orientation(new_mask)"
   ]
  },
  {
   "cell_type": "code",
   "execution_count": 34,
   "metadata": {},
   "outputs": [
    {
     "name": "stdout",
     "output_type": "stream",
     "text": [
      "Volume reoriented successfully.\n",
      "('L', 'A', 'S')\n"
     ]
    }
   ],
   "source": [
    "new_mask ='D:/Liver Segmentation Meena 2024/Neuroblastoma_2025/mask/Volume_39 (2).nii'\n",
    "mask ='D:/Liver Segmentation Meena 2024/Neuroblastoma_2025/mask/volume_39.nii'\n",
    "reorient_nifti(mask,new_mask)\n",
    "get_orientation(new_mask)"
   ]
  },
  {
   "cell_type": "code",
   "execution_count": 35,
   "metadata": {},
   "outputs": [
    {
     "name": "stdout",
     "output_type": "stream",
     "text": [
      "Volume reoriented successfully.\n",
      "('L', 'A', 'S')\n"
     ]
    }
   ],
   "source": [
    "new_mask ='D:/Liver Segmentation Meena 2024/Neuroblastoma_2025/mask/Volume_40 (2).nii'\n",
    "mask ='D:/Liver Segmentation Meena 2024/Neuroblastoma_2025/mask/volume_40.nii'\n",
    "reorient_nifti(mask,new_mask)\n",
    "get_orientation(new_mask)"
   ]
  },
  {
   "cell_type": "code",
   "execution_count": null,
   "metadata": {},
   "outputs": [],
   "source": []
  }
 ],
 "metadata": {
  "kernelspec": {
   "display_name": "Python 3",
   "language": "python",
   "name": "python3"
  },
  "language_info": {
   "codemirror_mode": {
    "name": "ipython",
    "version": 3
   },
   "file_extension": ".py",
   "mimetype": "text/x-python",
   "name": "python",
   "nbconvert_exporter": "python",
   "pygments_lexer": "ipython3",
   "version": "3.9.9"
  }
 },
 "nbformat": 4,
 "nbformat_minor": 2
}
